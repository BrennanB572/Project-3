{
 "cells": [
  {
   "cell_type": "code",
   "execution_count": null,
   "id": "062ebc65",
   "metadata": {},
   "outputs": [],
   "source": [
    "import pandas as pd\n",
    "from sqlalchemy import create_engine\n",
    "import os"
   ]
  },
  {
   "cell_type": "code",
   "execution_count": null,
   "id": "62b6a386",
   "metadata": {},
   "outputs": [],
   "source": [
    "engine = create_engine('sqlite:///sqlite_bs_entries.db')\n",
    "query = \"SELECT * FROM bs_entries\"\n",
    "company_info = pd.read_sql(query, engine)"
   ]
  },
  {
   "cell_type": "code",
   "execution_count": null,
   "id": "2c2c5b0a",
   "metadata": {},
   "outputs": [],
   "source": [
    "company_info.drop(company_info.index[0], inplace=True)"
   ]
  },
  {
   "cell_type": "code",
   "execution_count": null,
   "id": "09999f6c",
   "metadata": {},
   "outputs": [],
   "source": [
    "company_info.head()"
   ]
  },
  {
   "cell_type": "code",
   "execution_count": null,
   "id": "696bd7e4",
   "metadata": {},
   "outputs": [],
   "source": [
    "company_info.rename(columns={'Unnamed: 0': 'index',\n",
    "                   'label': 'entry_label',\n",
    "                    'concept': 'entry_concept',\n",
    "                    'unit': 'entry_unit',\n",
    "                    'value': 'entry_value'\n",
    "                   }, inplace=True)"
   ]
  },
  {
   "cell_type": "code",
   "execution_count": null,
   "id": "12c5fe7d",
   "metadata": {},
   "outputs": [],
   "source": [
    "company_info.head()"
   ]
  },
  {
   "cell_type": "code",
   "execution_count": null,
   "id": "da84fdaa",
   "metadata": {},
   "outputs": [],
   "source": [
    "for index, row in company_info.iterrows():\n",
    "        if row['entry_label'] == None:\n",
    "            company_info.loc[index, 'entry_label'] = company_info.loc[index,'entry_concept']\n",
    "company_info.head(750)\n",
    "company_info_cleaned = company_info\n",
    "# company_info['entry_label'] = company_info['entry_label'].replace(\"\",company_info['entry_concept'])\n",
    "# company_info.head(750)"
   ]
  },
  {
   "cell_type": "code",
   "execution_count": null,
   "id": "68306c41",
   "metadata": {},
   "outputs": [],
   "source": [
    "company_info_cleaned.dtypes"
   ]
  },
  {
   "cell_type": "code",
   "execution_count": null,
   "id": "ab12834c",
   "metadata": {},
   "outputs": [],
   "source": [
    "company_info_cleaned.head()"
   ]
  },
  {
   "cell_type": "code",
   "execution_count": null,
   "id": "e203fb32",
   "metadata": {},
   "outputs": [],
   "source": [
    "# company_info_cleaned.to_csv('company_info.csv', encoding='utf-8', index=True)"
   ]
  },
  {
   "cell_type": "code",
   "execution_count": null,
   "id": "0aa7f8f3",
   "metadata": {},
   "outputs": [],
   "source": [
    "# adding in name, industry, industry code - binning process\n",
    "company_info_cleaned.loc[company_info_cleaned['symbol'] == 'BDX', 'company_name'] = 'Becton Dickson'\n",
    "company_info_cleaned.loc[company_info_cleaned['symbol'] == 'AXP', 'company_name'] = 'American Express'\n",
    "company_info_cleaned.loc[company_info_cleaned['symbol'] == 'SWKS', 'company_name'] = 'Sky Works Solutions'\n",
    "company_info_cleaned.loc[company_info_cleaned['symbol'] == 'AFL', 'company_name'] = 'Aflac'\n",
    "company_info_cleaned.loc[company_info_cleaned['symbol'] == 'ATRO', 'company_name'] = 'Astronics Corp'"
   ]
  },
  {
   "cell_type": "code",
   "execution_count": null,
   "id": "0e163e60",
   "metadata": {},
   "outputs": [],
   "source": [
    "company_info_cleaned.head()"
   ]
  },
  {
   "cell_type": "code",
   "execution_count": null,
   "id": "f4b79a53",
   "metadata": {},
   "outputs": [],
   "source": [
    "company_info_cleaned.loc[company_info_cleaned['symbol'] == 'BDX', 'entry_industry'] = 'Medical Products'\n",
    "company_info_cleaned.loc[company_info_cleaned['symbol'] == 'AXP', 'entry_industry'] = 'Banking'\n",
    "company_info_cleaned.loc[company_info_cleaned['symbol'] == 'SWKS', 'entry_industry'] = 'Semiconductor'\n",
    "company_info_cleaned.loc[company_info_cleaned['symbol'] == 'AFL', 'entry_industry'] = 'Insurance'\n",
    "company_info_cleaned.loc[company_info_cleaned['symbol'] == 'ATRO', 'entry_industry'] = 'Aerospace'"
   ]
  },
  {
   "cell_type": "code",
   "execution_count": null,
   "id": "ce051a73",
   "metadata": {},
   "outputs": [],
   "source": [
    "company_info_cleaned.head()"
   ]
  },
  {
   "cell_type": "code",
   "execution_count": null,
   "id": "1ad10c46",
   "metadata": {},
   "outputs": [],
   "source": [
    "company_info_cleaned.loc[company_info_cleaned['symbol'] == 'BDX', 'entry_industry_code'] = '0000010795'\n",
    "company_info_cleaned.loc[company_info_cleaned['symbol'] == 'AXP', 'entry_industry_code'] = '0000004962'\n",
    "company_info_cleaned.loc[company_info_cleaned['symbol'] == 'SWKS', 'entry_industry_code'] = '0000004127'\n",
    "company_info_cleaned.loc[company_info_cleaned['symbol'] == 'AFL', 'entry_industry_code'] = '0000004977'\n",
    "company_info_cleaned.loc[company_info_cleaned['symbol'] == 'ATRO', 'entry_industry_code'] = '0000008063'"
   ]
  },
  {
   "cell_type": "code",
   "execution_count": null,
   "id": "64569c14",
   "metadata": {},
   "outputs": [],
   "source": [
    "company_info_cleaned.head()"
   ]
  },
  {
   "cell_type": "code",
   "execution_count": null,
   "id": "9922b4c1",
   "metadata": {},
   "outputs": [],
   "source": [
    "company_info_final = company_info_cleaned.reindex(columns=['index', 'company_name', 'entry_industry_code', 'symbol', 'entry_industry', 'quarter', 'year', 'entry_label', 'entry_concept', 'entry_unit', 'entry_value', 'statement'])"
   ]
  },
  {
   "cell_type": "code",
   "execution_count": null,
   "id": "aec7f30c",
   "metadata": {},
   "outputs": [],
   "source": [
    "company_info_final.head()"
   ]
  },
  {
   "cell_type": "code",
   "execution_count": null,
   "id": "4db7d34d",
   "metadata": {},
   "outputs": [],
   "source": [
    "company_info_final.rename(columns={'entry_industry_code': 'industry_code',\n",
    "                             'entry_industry': 'industry'\n",
    "                   }, inplace=True)"
   ]
  },
  {
   "cell_type": "code",
   "execution_count": null,
   "id": "46b4f0fe",
   "metadata": {},
   "outputs": [],
   "source": [
    "company_info_final.head()"
   ]
  },
  {
   "cell_type": "code",
   "execution_count": null,
   "id": "f918ac14",
   "metadata": {},
   "outputs": [],
   "source": [
    "company_info_final.drop(['index'], axis=1)"
   ]
  },
  {
   "cell_type": "code",
   "execution_count": null,
   "id": "b9d5a0aa",
   "metadata": {},
   "outputs": [],
   "source": [
    "company_info_final.isna().any()"
   ]
  },
  {
   "cell_type": "code",
   "execution_count": null,
   "id": "4a2ee8ea",
   "metadata": {},
   "outputs": [],
   "source": [
    "company_info_final.to_csv('company_info_final.csv', encoding='utf-8', index=False)"
   ]
  },
  {
   "cell_type": "code",
   "execution_count": null,
   "id": "10a1e5fe",
   "metadata": {},
   "outputs": [],
   "source": [
    "company_info_final.to_json('company_info_final.json', orient='table')"
   ]
  },
  {
   "cell_type": "code",
   "execution_count": null,
   "id": "4d2e67e6",
   "metadata": {},
   "outputs": [],
   "source": []
  }
 ],
 "metadata": {
  "kernelspec": {
   "display_name": "Python 3 (ipykernel)",
   "language": "python",
   "name": "python3"
  },
  "language_info": {
   "codemirror_mode": {
    "name": "ipython",
    "version": 3
   },
   "file_extension": ".py",
   "mimetype": "text/x-python",
   "name": "python",
   "nbconvert_exporter": "python",
   "pygments_lexer": "ipython3",
   "version": "3.11.5"
  }
 },
 "nbformat": 4,
 "nbformat_minor": 5
}
