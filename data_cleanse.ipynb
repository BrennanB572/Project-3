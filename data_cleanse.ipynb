{
 "cells": [
  {
   "cell_type": "code",
   "execution_count": null,
   "id": "3a59ad74",
   "metadata": {},
   "outputs": [],
   "source": [
    "import pandas as pd\n",
    "import os"
   ]
  },
  {
   "cell_type": "code",
   "execution_count": null,
   "id": "0ae108e7",
   "metadata": {},
   "outputs": [],
   "source": [
    "company_info = pd.read_csv('company_info.csv')"
   ]
  },
  {
   "cell_type": "code",
   "execution_count": null,
   "id": "e40a7ce3",
   "metadata": {},
   "outputs": [],
   "source": [
    "company_info.head()"
   ]
  },
  {
   "cell_type": "code",
   "execution_count": null,
   "id": "31afc434",
   "metadata": {},
   "outputs": [],
   "source": [
    "company_info.rename(columns={'Unnamed: 0': 'index',\n",
    "                   'label': 'entry_label',\n",
    "                    'concept': 'entry_concept',\n",
    "                    'unit': 'entry_unit',\n",
    "                    'value': 'entry_value'\n",
    "                   }, inplace=True)"
   ]
  },
  {
   "cell_type": "code",
   "execution_count": null,
   "id": "2abed54c",
   "metadata": {},
   "outputs": [],
   "source": [
    "company_info.head()"
   ]
  },
  {
   "cell_type": "code",
   "execution_count": null,
   "id": "2491d61c",
   "metadata": {},
   "outputs": [],
   "source": [
    "company_info_cleaned = company_info.fillna(\"'Liabilities and Shareholders' Equity'\")"
   ]
  },
  {
   "cell_type": "code",
   "execution_count": null,
   "id": "9006b7c8",
   "metadata": {},
   "outputs": [],
   "source": [
    "company_info_cleaned.head()"
   ]
  },
  {
   "cell_type": "code",
   "execution_count": null,
   "id": "f981b928",
   "metadata": {},
   "outputs": [],
   "source": [
    "company_info_cleaned.to_csv('company_info.csv', encoding='utf-8', index=True)"
   ]
  },
  {
   "cell_type": "code",
   "execution_count": null,
   "id": "f26076dd",
   "metadata": {},
   "outputs": [],
   "source": [
    "# adding in name, industry, industry code - binning process\n",
    "company_info_cleaned.loc[company_info_cleaned['symbol'] == 'BDX', 'company_name'] = 'Becton Dickson'\n",
    "company_info_cleaned.loc[company_info_cleaned['symbol'] == 'AXP', 'company_name'] = 'American Express'\n",
    "company_info_cleaned.loc[company_info_cleaned['symbol'] == 'SWKS', 'company_name'] = 'Sky Works Solutions'\n",
    "company_info_cleaned.loc[company_info_cleaned['symbol'] == 'AFL', 'company_name'] = 'Aflac'\n",
    "company_info_cleaned.loc[company_info_cleaned['symbol'] == 'ATRO', 'company_name'] = 'Astronics Corp'"
   ]
  },
  {
   "cell_type": "code",
   "execution_count": null,
   "id": "de360ba8",
   "metadata": {},
   "outputs": [],
   "source": [
    "company_info_cleaned.head()"
   ]
  },
  {
   "cell_type": "code",
   "execution_count": null,
   "id": "6cef0ee8",
   "metadata": {},
   "outputs": [],
   "source": [
    "company_info_cleaned.loc[company_info_cleaned['symbol'] == 'BDX', 'entry_industry'] = 'Medical Products'\n",
    "company_info_cleaned.loc[company_info_cleaned['symbol'] == 'AXP', 'entry_industry'] = 'Banking'\n",
    "company_info_cleaned.loc[company_info_cleaned['symbol'] == 'SWKS', 'entry_industry'] = 'Semiconductor'\n",
    "company_info_cleaned.loc[company_info_cleaned['symbol'] == 'AFL', 'entry_industry'] = 'Insurance'\n",
    "company_info_cleaned.loc[company_info_cleaned['symbol'] == 'ATRO', 'entry_industry'] = 'Aerospace'"
   ]
  },
  {
   "cell_type": "code",
   "execution_count": null,
   "id": "fa16439c",
   "metadata": {},
   "outputs": [],
   "source": [
    "company_info_cleaned.head()"
   ]
  },
  {
   "cell_type": "code",
   "execution_count": null,
   "id": "1199820c",
   "metadata": {},
   "outputs": [],
   "source": [
    "company_info_cleaned.loc[company_info_cleaned['symbol'] == 'BDX', 'entry_industry_code'] = '0000010795'\n",
    "company_info_cleaned.loc[company_info_cleaned['symbol'] == 'AXP', 'entry_industry_code'] = '0000004962'\n",
    "company_info_cleaned.loc[company_info_cleaned['symbol'] == 'SWKS', 'entry_industry_code'] = '0000004127'\n",
    "company_info_cleaned.loc[company_info_cleaned['symbol'] == 'AFL', 'entry_industry_code'] = '0000004977'\n",
    "company_info_cleaned.loc[company_info_cleaned['symbol'] == 'ATRO', 'entry_industry_code'] = '0000008063'"
   ]
  },
  {
   "cell_type": "code",
   "execution_count": null,
   "id": "58b3ab69",
   "metadata": {},
   "outputs": [],
   "source": [
    "company_info_cleaned.head()"
   ]
  },
  {
   "cell_type": "code",
   "execution_count": null,
   "id": "4d919037",
   "metadata": {},
   "outputs": [],
   "source": [
    "company_info_final = company_info_cleaned.reindex(columns=['index', 'company_name', 'entry_industry_code', 'symbol', 'entry_industry', 'quarter', 'year', 'entry_label', 'entry_concept', 'entry_unit', 'entry_value'])"
   ]
  },
  {
   "cell_type": "code",
   "execution_count": null,
   "id": "ad00199a",
   "metadata": {},
   "outputs": [],
   "source": [
    "company_info_final.head()"
   ]
  },
  {
   "cell_type": "code",
   "execution_count": null,
   "id": "9ea139f7",
   "metadata": {},
   "outputs": [],
   "source": [
    "company_info_final.rename(columns={'entry_industry_code': 'industry_code',\n",
    "                             'entry_industry': 'industry'\n",
    "                   }, inplace=True)"
   ]
  },
  {
   "cell_type": "code",
   "execution_count": null,
   "id": "cff02826",
   "metadata": {},
   "outputs": [],
   "source": [
    "company_info_final.head()"
   ]
  },
  {
   "cell_type": "code",
   "execution_count": null,
   "id": "62a7b610",
   "metadata": {},
   "outputs": [],
   "source": [
    "company_info_final.to_csv('company_info_final.csv', encoding='utf-8', index=False)"
   ]
  },
  {
   "cell_type": "code",
   "execution_count": null,
   "id": "367cbf8e",
   "metadata": {},
   "outputs": [],
   "source": []
  }
 ],
 "metadata": {
  "kernelspec": {
   "display_name": "Python 3 (ipykernel)",
   "language": "python",
   "name": "python3"
  },
  "language_info": {
   "codemirror_mode": {
    "name": "ipython",
    "version": 3
   },
   "file_extension": ".py",
   "mimetype": "text/x-python",
   "name": "python",
   "nbconvert_exporter": "python",
   "pygments_lexer": "ipython3",
   "version": "3.11.5"
  }
 },
 "nbformat": 4,
 "nbformat_minor": 5
}
