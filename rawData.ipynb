{
 "cells": [
  {
   "cell_type": "code",
   "execution_count": 1,
   "id": "ffd11009",
   "metadata": {},
   "outputs": [],
   "source": [
    "import pandas as pd\n",
    "import os"
   ]
  },
  {
   "cell_type": "code",
   "execution_count": 2,
   "id": "cda30119",
   "metadata": {},
   "outputs": [],
   "source": [
    "filesdf = pd.DataFrame()"
   ]
  },
  {
   "cell_type": "code",
   "execution_count": 3,
   "id": "d79b1b1a",
   "metadata": {},
   "outputs": [],
   "source": [
    "directory = './project3files/'"
   ]
  },
  {
   "cell_type": "code",
   "execution_count": 6,
   "id": "eab956ab",
   "metadata": {},
   "outputs": [],
   "source": [
    "for folder in os.listdir(directory):\n",
    "    folder_path = os.path.join(directory, folder)\n",
    "    for file in os.listdir(folder_path):\n",
    "        if file.startswith('0000010795'):\n",
    "            curdf = pd.read_json(os.path.join(folder_path, file))\n",
    "            filesdf = pd.concat([filesdf, curdf], ignore_index=True)"
   ]
  },
  {
   "cell_type": "code",
   "execution_count": 8,
   "id": "7c1a963e",
   "metadata": {},
   "outputs": [
    {
     "data": {
      "text/plain": [
       "0     [{'label': 'Cash and equivalents', 'concept': ...\n",
       "1     [{'label': 'Net (Loss) Income', 'concept': 'Ne...\n",
       "2     [{'label': 'Net (Loss) Income', 'concept': 'Ne...\n",
       "3     [{'label': 'Cash and equivalents', 'concept': ...\n",
       "4     [{'label': 'Net Income', 'concept': 'NetIncome...\n",
       "5     [{'label': 'Net Income', 'concept': 'NetIncome...\n",
       "6     [{'label': 'Opening Cash and Equivalents', 'co...\n",
       "7     [{'label': 'Net (Loss) Income', 'concept': 'Ne...\n",
       "8     [{'label': 'Net (Loss) Income', 'concept': 'Ne...\n",
       "9     [{'label': 'Opening Cash and Equivalents', 'co...\n",
       "10    [{'label': 'Net (Loss) Income', 'concept': 'Ne...\n",
       "11    [{'label': 'Net (Loss) Income', 'concept': 'Ne...\n",
       "12    [{'label': 'Cash and equivalents', 'concept': ...\n",
       "13    [{'label': 'Net Income (Loss)', 'concept': 'Ne...\n",
       "14    [{'label': 'Net Income (Loss)', 'concept': 'Ne...\n",
       "15    [{'label': 'Opening Cash and Equivalents', 'co...\n",
       "16    [{'label': 'Net Income', 'concept': 'NetIncome...\n",
       "17    [{'label': 'Net Income', 'concept': 'NetIncome...\n",
       "18    [{'label': 'Cash and equivalents', 'concept': ...\n",
       "19    [{'label': 'Net income (loss)', 'concept': 'Ne...\n",
       "20    [{'label': 'Net income (loss)', 'concept': 'Ne...\n",
       "21    [{'label': 'Cash and equivalents', 'concept': ...\n",
       "22    [{'label': 'Net Income (Loss)', 'concept': 'Ne...\n",
       "23    [{'label': 'Net Income (Loss)', 'concept': 'Ne...\n",
       "24    [{'label': 'Cash and equivalents', 'concept': ...\n",
       "25    [{'label': 'Net income', 'concept': 'NetIncome...\n",
       "26    [{'label': 'Net income', 'concept': 'NetIncome...\n",
       "27    [{'label': 'Cash and equivalents', 'concept': ...\n",
       "28    [{'label': 'Net Income', 'concept': 'NetIncome...\n",
       "29    [{'label': 'Net Income', 'concept': 'NetIncome...\n",
       "30    [{'label': 'Cash and equivalents', 'concept': ...\n",
       "31    [{'label': 'Net income', 'concept': 'NetIncome...\n",
       "32    [{'label': 'Net income', 'concept': 'NetIncome...\n",
       "33    [{'label': 'Cash and equivalents', 'concept': ...\n",
       "34    [{'label': 'Net income', 'concept': 'NetIncome...\n",
       "35    [{'label': 'Net income', 'concept': 'NetIncome...\n",
       "36    [{'label': 'Cash and equivalents', 'concept': ...\n",
       "37    [{'label': 'Net income applicable to common sh...\n",
       "38    [{'label': 'Revenues', 'concept': 'Revenues', ...\n",
       "39    [{'label': 'Short-term debt', 'concept': 'Debt...\n",
       "40    [{'label': 'Net Income', 'concept': 'NetIncome...\n",
       "41    [{'label': 'Operating Income', 'concept': 'Ope...\n",
       "42    [{'label': 'Commitments and Contingencies (See...\n",
       "43    [{'label': 'Share-based compensation', 'concep...\n",
       "44    [{'label': 'Interest expense', 'concept': 'Int...\n",
       "45    [{'label': 'Less allowances for depreciation a...\n",
       "46    [{'label': 'Share-based compensation', 'concep...\n",
       "47    [{'label': 'Total Operating Costs and Expenses...\n",
       "48    [{'label': 'Property, Plant and Equipment, Net...\n",
       "49    [{'label': 'Dividends paid', 'concept': 'Payme...\n",
       "50    [{'label': 'Cost of products sold', 'concept':...\n",
       "Name: data, dtype: object"
      ]
     },
     "execution_count": 8,
     "metadata": {},
     "output_type": "execute_result"
    }
   ],
   "source": [
    "filesdf.head()"
   ]
  },
  {
   "cell_type": "code",
   "execution_count": null,
   "id": "ac7e1dc4",
   "metadata": {},
   "outputs": [],
   "source": []
  }
 ],
 "metadata": {
  "kernelspec": {
   "display_name": "Python 3 (ipykernel)",
   "language": "python",
   "name": "python3"
  },
  "language_info": {
   "codemirror_mode": {
    "name": "ipython",
    "version": 3
   },
   "file_extension": ".py",
   "mimetype": "text/x-python",
   "name": "python",
   "nbconvert_exporter": "python",
   "pygments_lexer": "ipython3",
   "version": "3.11.5"
  }
 },
 "nbformat": 4,
 "nbformat_minor": 5
}
