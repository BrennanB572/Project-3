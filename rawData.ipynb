{
 "cells": [
  {
   "cell_type": "code",
   "execution_count": null,
   "id": "ffd11009",
   "metadata": {},
   "outputs": [],
   "source": [
    "import pandas as pd\n",
    "import os"
   ]
  },
  {
   "cell_type": "code",
   "execution_count": null,
   "id": "cda30119",
   "metadata": {},
   "outputs": [],
   "source": [
    "filesdf = pd.DataFrame()"
   ]
  },
  {
   "cell_type": "code",
   "execution_count": null,
   "id": "d79b1b1a",
   "metadata": {},
   "outputs": [],
   "source": [
    "directory = 'C:/Users/qbbrenna.ANT/Downloads/project3files'"
   ]
  },
  {
   "cell_type": "code",
   "execution_count": null,
   "id": "eab956ab",
   "metadata": {},
   "outputs": [],
   "source": [
    "for folder in os.listdir(directory):\n",
    "    folder_path = os.path.join(directory, folder)\n",
    "    for file in os.listdir(folder_path):\n",
    "        if file.startswith('0000010795'):\n",
    "            curdf = pd.read_json(os.path.join(directory, filename))\n",
    "            filesdf = pd.concat([filesdf, curdf], ignore_index=True)"
   ]
  },
  {
   "cell_type": "code",
   "execution_count": null,
   "id": "7c1a963e",
   "metadata": {},
   "outputs": [],
   "source": [
    "filesdf.head()"
   ]
  },
  {
   "cell_type": "code",
   "execution_count": null,
   "id": "ac7e1dc4",
   "metadata": {},
   "outputs": [],
   "source": []
  }
 ],
 "metadata": {
  "kernelspec": {
   "display_name": "Python 3 (ipykernel)",
   "language": "python",
   "name": "python3"
  },
  "language_info": {
   "codemirror_mode": {
    "name": "ipython",
    "version": 3
   },
   "file_extension": ".py",
   "mimetype": "text/x-python",
   "name": "python",
   "nbconvert_exporter": "python",
   "pygments_lexer": "ipython3",
   "version": "3.11.5"
  }
 },
 "nbformat": 4,
 "nbformat_minor": 5
}
