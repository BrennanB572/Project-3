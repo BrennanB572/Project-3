{
 "cells": [
  {
   "cell_type": "code",
   "execution_count": null,
   "id": "e4676ea2-e3a6-4185-b3c5-aab77a82c4c8",
   "metadata": {},
   "outputs": [],
   "source": [
    "# Imports\n",
    "import pandas as pd\n"
   ]
  },
  {
   "cell_type": "code",
   "execution_count": null,
   "id": "8bf9f97f-d7dc-47cc-ad21-307b600bac23",
   "metadata": {},
   "outputs": [],
   "source": [
    "# Import AFL as dataframe\n",
    "afl_df = pd.read_csv('./stock_data/AFL.csv')\n",
    "afl_df.head()"
   ]
  },
  {
   "cell_type": "code",
   "execution_count": null,
   "id": "9a3747f3-e704-49e4-b658-5730c9644f66",
   "metadata": {},
   "outputs": [],
   "source": [
    "# Import AXP as dataframe\n",
    "axp_df = pd.read_csv(\"./stock_data/AXP.csv\")\n",
    "axp_df.head()"
   ]
  },
  {
   "cell_type": "code",
   "execution_count": null,
   "id": "8cd64ed0-fe83-4c7c-9a7c-4cd7ab236fa2",
   "metadata": {},
   "outputs": [],
   "source": [
    "# Import ATRO as dataframe\n",
    "atro_df = pd.read_csv(\"./stock_data/ATRO.csv\")\n",
    "atro_df.head()"
   ]
  },
  {
   "cell_type": "code",
   "execution_count": null,
   "id": "5d5ccb14-d76d-42e0-9df1-d44b02d01559",
   "metadata": {},
   "outputs": [],
   "source": [
    "# Import BDX as dataframe\n",
    "bdx_df = pd.read_csv(\"./stock_data/BDX.csv\")\n",
    "bdx_df.head()"
   ]
  },
  {
   "cell_type": "code",
   "execution_count": null,
   "id": "149eacd3-5e57-42dc-9082-ddcfea74ef86",
   "metadata": {},
   "outputs": [],
   "source": [
    "# Import SWKS as dataframe\n",
    "swks_df = pd.read_csv(\"./stock_data/SWKS.csv\")\n",
    "swks_df.head()"
   ]
  },
  {
   "cell_type": "code",
   "execution_count": null,
   "id": "7f42cd0b-ac87-4957-bfd8-fbcd4879becc",
   "metadata": {},
   "outputs": [],
   "source": [
    "# Combine all stocks into single df\n",
    "all_df = pd.concat([afl_df, atro_df, axp_df, bdx_df, swks_df], ignore_index=True)\n",
    "all_df"
   ]
  },
  {
   "cell_type": "code",
   "execution_count": null,
   "id": "c7255964-dcb6-4856-92c4-762b99957211",
   "metadata": {},
   "outputs": [],
   "source": [
    "all_df.dtypes"
   ]
  },
  {
   "cell_type": "code",
   "execution_count": null,
   "id": "b6af9e12-8613-410b-a212-1d0e4e81206d",
   "metadata": {},
   "outputs": [],
   "source": [
    "all_df.isna().any()"
   ]
  },
  {
   "cell_type": "code",
   "execution_count": null,
   "id": "babf4051-d2b5-4c55-999d-6cb3906958fe",
   "metadata": {},
   "outputs": [],
   "source": [
    "#all_df[\"Date\"] = all_df[\"Date\"].str.split(5) + all_df[\"Date\"].str.split(6,8) + all_df[\"Date\"].str.split(9,11)\n",
    "#all_df.head()\n",
    "all_df[\"newDate\"] = [\"-\".join([vals[1], vals[2], vals[0]]) for vals in [date.split(\"-\") for date in all_df[\"Date\"]]]\n",
    "all_df.head()"
   ]
  },
  {
   "cell_type": "code",
   "execution_count": null,
   "id": "0833c2e6-c09c-438e-8dc1-fb8b8f766ab2",
   "metadata": {},
   "outputs": [],
   "source": [
    "# Export data to json\n",
    "all_df.to_json(\"./stock_data.json\", orient=\"table\")"
   ]
  },
  {
   "cell_type": "code",
   "execution_count": null,
   "id": "ea0c1534-6f9e-4795-a3e4-11a7296dca6b",
   "metadata": {},
   "outputs": [],
   "source": [
    "all_df.to_csv(\"./stock_info.csv\", encoding='utf-8', index=False)"
   ]
  },
  {
   "cell_type": "code",
   "execution_count": null,
   "id": "1c715ed4",
   "metadata": {},
   "outputs": [],
   "source": []
  }
 ],
 "metadata": {
  "kernelspec": {
   "display_name": "Python 3 (ipykernel)",
   "language": "python",
   "name": "python3"
  },
  "language_info": {
   "codemirror_mode": {
    "name": "ipython",
    "version": 3
   },
   "file_extension": ".py",
   "mimetype": "text/x-python",
   "name": "python",
   "nbconvert_exporter": "python",
   "pygments_lexer": "ipython3",
   "version": "3.11.5"
  }
 },
 "nbformat": 4,
 "nbformat_minor": 5
}
