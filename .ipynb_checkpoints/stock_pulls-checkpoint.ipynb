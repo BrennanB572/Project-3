{
 "cells": [
  {
   "cell_type": "code",
   "execution_count": null,
   "id": "d7099ae2",
   "metadata": {},
   "outputs": [],
   "source": [
    "import pandas as pd\n",
    "import os"
   ]
  },
  {
   "cell_type": "code",
   "execution_count": null,
   "id": "7dd3c83d",
   "metadata": {},
   "outputs": [],
   "source": [
    "path = \"./stock_data/SWKS.csv\"\n",
    "SWKS_df = pd.read_csv(path)\n",
    "SWKS_df.head()"
   ]
  },
  {
   "cell_type": "code",
   "execution_count": null,
   "id": "acbeb622",
   "metadata": {},
   "outputs": [],
   "source": [
    "filename = os.path.basename(path)\n",
    "SWKS_df['filename'] = filename"
   ]
  },
  {
   "cell_type": "code",
   "execution_count": null,
   "id": "fb011529",
   "metadata": {},
   "outputs": [],
   "source": [
    "SWKS_df.head()"
   ]
  },
  {
   "cell_type": "code",
   "execution_count": null,
   "id": "dd73c997",
   "metadata": {},
   "outputs": [],
   "source": [
    "SWKS_df = SWKS_df.reindex(columns=['filename', 'Date', 'Open', 'High', 'Low', 'Close', 'Adj Close', 'Volume'])"
   ]
  },
  {
   "cell_type": "code",
   "execution_count": null,
   "id": "870b0147",
   "metadata": {},
   "outputs": [],
   "source": [
    "SWKS_df.head()"
   ]
  },
  {
   "cell_type": "code",
   "execution_count": null,
   "id": "a0690b72",
   "metadata": {},
   "outputs": [],
   "source": [
    "SWKS_df['filename'] = SWKS_df['filename'].str[:-4]\n",
    "SWKS_df.head()"
   ]
  },
  {
   "cell_type": "code",
   "execution_count": null,
   "id": "a81977f6",
   "metadata": {},
   "outputs": [],
   "source": [
    "SWKS_df.rename(columns={'filename': 'company'\n",
    "                   }, inplace=True)"
   ]
  },
  {
   "cell_type": "code",
   "execution_count": null,
   "id": "83edb996",
   "metadata": {},
   "outputs": [],
   "source": [
    "SWKS_df.head()"
   ]
  },
  {
   "cell_type": "code",
   "execution_count": null,
   "id": "a3d09ffa",
   "metadata": {},
   "outputs": [],
   "source": [
    "SWKS_df.to_csv('./stock_data/SWKS.csv', encoding='utf-8', index=False)"
   ]
  },
  {
   "cell_type": "code",
   "execution_count": null,
   "id": "a7eaf227",
   "metadata": {},
   "outputs": [],
   "source": []
  }
 ],
 "metadata": {
  "kernelspec": {
   "display_name": "Python 3 (ipykernel)",
   "language": "python",
   "name": "python3"
  },
  "language_info": {
   "codemirror_mode": {
    "name": "ipython",
    "version": 3
   },
   "file_extension": ".py",
   "mimetype": "text/x-python",
   "name": "python",
   "nbconvert_exporter": "python",
   "pygments_lexer": "ipython3",
   "version": "3.11.5"
  }
 },
 "nbformat": 4,
 "nbformat_minor": 5
}
